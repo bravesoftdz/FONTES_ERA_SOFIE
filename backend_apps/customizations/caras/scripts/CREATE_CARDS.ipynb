{
 "cells": [
  {
   "cell_type": "markdown",
   "metadata": {},
   "source": [
    "# CANCELAMENTO DE CARD"
   ]
  },
  {
   "cell_type": "code",
   "execution_count": 31,
   "metadata": {},
   "outputs": [],
   "source": [
    "from requests import delete\n",
    "\n",
    "CARDS = [\n",
    "    'cdda2c1e-2951-4643-9256-fd2f56e40350',\n",
    "    '62675d75-da45-47b9-bbfd-555e1c36cbff',\n",
    "    'ffd6a28e-b19b-4adf-ad9a-5c8b1abb5339',\n",
    "    '376f1ec2-f5d1-4338-8ed5-c35eae7e30ad'\n",
    "]\n",
    "\n",
    "URL = 'http://mysofie.com/api/v2/card/{card}/'\n",
    "\n",
    "for each in CARDS:\n",
    "    url = URL.format(card=each)\n",
    "    delete(url, auth=('jmarioguedes@gmail.com', 'spfc2010'))"
   ]
  },
  {
   "cell_type": "markdown",
   "metadata": {},
   "source": [
    "# CRIAÇÃO DE CARD"
   ]
  },
  {
   "cell_type": "code",
   "execution_count": 5,
   "metadata": {},
   "outputs": [],
   "source": [
    "INFO = [\n",
    "    {'oferta_id': '1154', 'referencia': '????', 'revista': 'Contigo!', 'modalidade': 'Impressa', 'periodo': '1 Ano', 'edicoes': '12', 'valor_banca': 'R$ 132,00', 'valor_sofie': 'R$ 132,00', 'max_parcela': '2', 'premio': 'R$ 26,00', 'taxa': 'R$ 0,01', 'na_fatura': 'Contigo1Ano', 'descricao': '<ul><li>Assinando por 1 ano você recebe 12 edições da revista.</li><li>A entrega da 1º edição será realizada em até 4 semanas após a confirmação do pagamento.</li><li><strong>Periodicidade:</strong> Mensal</li><li><strong>Frete:</strong> Grátis</li><li>Imagens meramente ilustrativas.</li></ul>'},\n",
    "    {'oferta_id': '1154', 'referencia': '????', 'revista': 'Contigo!', 'modalidade': 'Impressa', 'periodo': '2 Anos', 'edicoes': '24', 'valor_banca': 'R$ 264,00', 'valor_sofie': 'R$ 264,00', 'max_parcela': '4', 'premio': 'R$ 51,00', 'taxa': 'R$ 0,01', 'na_fatura': 'Contigo1AnoS', 'descricao': '<ul><li>Assinando por 2 anos você recebe 24 edições da revista.</li><li>A entrega da 1º edição será realizada em até 4 semanas após a confirmação do pagamento.</li><li><strong>Periodicidade:</strong> Mensal</li><li><strong>Frete:</strong> Grátis</li><li>Imagens meramente ilustrativas.</li></ul>'}\n",
    "]"
   ]
  },
  {
   "cell_type": "code",
   "execution_count": 6,
   "metadata": {},
   "outputs": [
    {
     "name": "stdout",
     "output_type": "stream",
     "text": [
      "1\n",
      "1\n"
     ]
    }
   ],
   "source": [
    "from requests import post\n",
    "from locale import setlocale, LC_ALL\n",
    "from locale import currency\n",
    "\n",
    "setlocale(LC_ALL, 'pt_BR.UTF-8')\n",
    "\n",
    "#: URL = 'http://mysofie.com/api/v2/card/{card}/'\n",
    "URL = 'http://localhost:64000/api/v2/card'\n",
    "\n",
    "def convert2float(value: str) -> float:\n",
    "    \"\"\"\n",
    "\n",
    "    :param value:\n",
    "    :return:\n",
    "    \"\"\"\n",
    "    new_value = value.replace('.', '').replace(',', '.').replace('R$ ', '').strip()\n",
    "    return float(new_value)\n",
    "\n",
    "\n",
    "for row in INFO:\n",
    "    print(1)\n",
    "    data = {\n",
    "            'company': 'caras',\n",
    "            'expertise': 'SALE',\n",
    "             'description_on_invoice' : row['na_fatura'], \n",
    "            'title': {\n",
    "                'title': row['revista'],\n",
    "                'sub_title': row['modalidade']\n",
    "            },\n",
    "            'bookmarks': {\n",
    "                'card': {\n",
    "                    'display': True,\n",
    "                    'row_1': row['edicoes'],\n",
    "                    'row_2': 'EDIÇÕES',\n",
    "                    'row_3': 'ANUAL' if row['periodo'] == '1 Ano' else 'BIANUAL'\n",
    "                },\n",
    "                'detail_1': {\n",
    "                    'display': True,\n",
    "                    'row_1': 'VALOR COMPRA',\n",
    "                    'row_2': 'AVULSO',\n",
    "                    'row_3': row['valor_banca']\n",
    "                },\n",
    "                'detail_2': {\n",
    "                    'display': True,\n",
    "                    'row_1': 'VALOR SOFIE',\n",
    "                    'row_2': row['valor_sofie'],\n",
    "                    'row_3': None\n",
    "                },\n",
    "                'detail_3': {\n",
    "                    'display': True,\n",
    "                    'row_1': 'Parcelado',\n",
    "                    'row_2': 'Em até',\n",
    "                    'row_3': '{}x de {}'.format(row['max_parcela'], currency(convert2float(row['valor_sofie']) / int(row['max_parcela']), symbol=False, grouping=True))\n",
    "                }\n",
    "            },\n",
    "            'description': row['descricao'].replace(r'\\n', '<br>'),\n",
    "            'training': None,\n",
    "            'micro_contract': 'caras_contract',\n",
    "            'payment_conditions': [{\n",
    "                'title': 'Em {}x'.format(x) if x > 1 else 'À vista!',\n",
    "                'method': 'CREDIT_CARD',\n",
    "                'price': convert2float(row['valor_sofie']),\n",
    "                'reward': convert2float(row['premio']),\n",
    "                'fee': convert2float(row['taxa']),\n",
    "                'points': 0,\n",
    "                'quotes': {\n",
    "                    'qtt': x,\n",
    "                    'value': convert2float(row['valor_sofie']) / x,\n",
    "                    'with_rate': False\n",
    "                },\n",
    "                'days_for_reward': 7\n",
    "            } for x in range(1, int(row['max_parcela']) + 1)],\n",
    "            'reference_codes': {\n",
    "                'reference_1': row['referencia'],\n",
    "                'reference_2': row['oferta_id']\n",
    "            }\n",
    "        }\n",
    "    \n",
    "    post(URL, json=data, auth=('jmarioguedes@gmail.com', 'spfc2010'))"
   ]
  }
 ],
 "metadata": {
  "kernelspec": {
   "display_name": "Python 3",
   "language": "python",
   "name": "python3"
  },
  "language_info": {
   "codemirror_mode": {
    "name": "ipython",
    "version": 3
   },
   "file_extension": ".py",
   "mimetype": "text/x-python",
   "name": "python",
   "nbconvert_exporter": "python",
   "pygments_lexer": "ipython3",
   "version": "3.6.5"
  }
 },
 "nbformat": 4,
 "nbformat_minor": 2
}
