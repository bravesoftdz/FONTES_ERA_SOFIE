{
 "cells": [
  {
   "cell_type": "markdown",
   "metadata": {},
   "source": [
    "# INICIALIZANDO TUDO"
   ]
  },
  {
   "cell_type": "code",
   "execution_count": 31,
   "metadata": {},
   "outputs": [],
   "source": [
    "URL = 'http://mysofie.com/api/v2/card'\n",
    "# URL = 'http://localhost:64000/api/v2/card'\n",
    "\n",
    "EMPRESA = 'claro'"
   ]
  },
  {
   "cell_type": "code",
   "execution_count": 32,
   "metadata": {},
   "outputs": [],
   "source": [
    "LINES = \"\"\"\n",
    "OFERTA_ID;REFERENCIA;REVISTA;MODALIDADE;PERIODO;EDICOES;VALOR_NORMAL;VALOR_SOFIE;MAX_PARCELA;PREMIO;PLATAFORMA;NA_FATURA;DESCRICAO\n",
    ";;TV Mix HD + Banda Larga 120 Megas + Fone Ilimitado Local;Mensal;;;;238,9;;272;68;;\n",
    ";;TV Mix HD + Banda Larga de 120 Megas;Mensal;;;;198,9;;244;61;;\n",
    ";;Fone Ilimitado Local + Banda Larga de 120 Megas;Mensal;;;;139,9;;136;34;;\n",
    ";;Banda Larga de 120 Megas;Mensal;;;;99;;108;27;;\n",
    ";;Lead de Internet;Único;;;;0;;2;0,5;;\n",
    "\"\"\""
   ]
  },
  {
   "cell_type": "code",
   "execution_count": 33,
   "metadata": {},
   "outputs": [],
   "source": [
    "INFO = []\n",
    "FIELDS = ['oferta_id', 'referencia', 'revista', 'modalidade', 'periodo', 'edicoes', 'valor_banca', 'valor_sofie', 'max_parcela', 'premio', 'taxa', 'na_fatura', 'descricao']\n",
    "\n",
    "for idx, line in enumerate(LINES.split('\\n')):\n",
    "    if idx == 1 or line == '':\n",
    "        continue\n",
    "        \n",
    "    values = line.split(';')\n",
    "    \n",
    "    buffer = dict(zip(FIELDS, values))\n",
    "    \n",
    "    INFO.append(buffer)"
   ]
  },
  {
   "cell_type": "markdown",
   "metadata": {},
   "source": [
    "# CRIAÇÃO DE CARD"
   ]
  },
  {
   "cell_type": "code",
   "execution_count": 34,
   "metadata": {},
   "outputs": [
    {
     "name": "stdout",
     "output_type": "stream",
     "text": [
      "200\n",
      "200\n",
      "200\n",
      "200\n",
      "200\n"
     ]
    }
   ],
   "source": [
    "from requests import post\n",
    "from locale import setlocale, LC_ALL\n",
    "from locale import currency\n",
    "\n",
    "setlocale(LC_ALL, 'pt_BR.UTF-8')\n",
    "\n",
    "def convert2float(value: str) -> float:\n",
    "    \"\"\"\n",
    "\n",
    "    :param value:\n",
    "    :return:\n",
    "    \"\"\"\n",
    "    new_value = value.replace('.', '').replace(',', '.').replace('R$ ', '').strip()\n",
    "    return float(new_value)\n",
    "\n",
    "\n",
    "for row in INFO:\n",
    "    data = {\n",
    "            'in_homologation': True,\n",
    "            'company': EMPRESA,\n",
    "            'expertise': 'SALE',\n",
    "            'description_on_invoice' : row['na_fatura'], \n",
    "            'title': {\n",
    "                'title': row['revista'],\n",
    "                'sub_title': row['modalidade']\n",
    "            },\n",
    "            'bookmarks': {\n",
    "                'card': {\n",
    "                    'display': True,\n",
    "                    'row_1': '',\n",
    "                    'row_2': '',\n",
    "                    'row_3': ''\n",
    "                },\n",
    "                'detail_1': {\n",
    "                    'display': False,\n",
    "                    'row_1': '',\n",
    "                    'row_2': '',\n",
    "                    'row_3': ''\n",
    "                },\n",
    "                'detail_2': {\n",
    "                    'display': True,\n",
    "                    'row_1': 'VALOR SOFIE',\n",
    "                    'row_2': currency(convert2float(row['valor_sofie']), symbol=True, grouping=True),\n",
    "                    'row_3': None\n",
    "                },\n",
    "                'detail_3': {\n",
    "                    'display': False,\n",
    "                    'row_1': '',\n",
    "                    'row_2': '',\n",
    "                    'row_3': ''\n",
    "                }\n",
    "            },\n",
    "            'description': 'Claro',\n",
    "            'training': None,\n",
    "            'micro_contract': 'caras_contract',\n",
    "            'payment_conditions': [{\n",
    "                'title': 'Mensalidade',\n",
    "                'method': 'CREDIT_CARD',\n",
    "                'price': convert2float(row['valor_sofie']),\n",
    "                'reward': convert2float(row['premio']),\n",
    "                'fee': convert2float(row['taxa']),\n",
    "                'points': 0,\n",
    "                'quotes': None,\n",
    "                'days_for_reward': 7\n",
    "            }],\n",
    "            'reference_codes': {\n",
    "                'reference_1': '',\n",
    "                'reference_2': ''\n",
    "            }\n",
    "        }\n",
    "    \n",
    "    response = post(URL, json=data, auth=('jmarioguedes@gmail.com', 'spfc2010'))\n",
    "    print(response.status_code)"
   ]
  },
  {
   "cell_type": "markdown",
   "metadata": {},
   "source": [
    "# LISTAGEM DOS CARDS"
   ]
  },
  {
   "cell_type": "code",
   "execution_count": null,
   "metadata": {},
   "outputs": [],
   "source": []
  }
 ],
 "metadata": {
  "kernelspec": {
   "display_name": "Python 3",
   "language": "python",
   "name": "python3"
  },
  "language_info": {
   "codemirror_mode": {
    "name": "ipython",
    "version": 3
   },
   "file_extension": ".py",
   "mimetype": "text/x-python",
   "name": "python",
   "nbconvert_exporter": "python",
   "pygments_lexer": "ipython3",
   "version": "3.6.7"
  }
 },
 "nbformat": 4,
 "nbformat_minor": 2
}
