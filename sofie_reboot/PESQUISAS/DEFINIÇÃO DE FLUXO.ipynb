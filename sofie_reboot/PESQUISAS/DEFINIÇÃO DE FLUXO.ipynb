{
 "cells": [
  {
   "cell_type": "code",
   "execution_count": 61,
   "metadata": {},
   "outputs": [],
   "source": [
    "from requests import get, put\n",
    "from pprint import pprint\n",
    "from json import dumps\n",
    "\n",
    "HOST = 'localhost'\n",
    "PORT = 64000\n",
    "AUTH = ('jmarioguedes@gmail.com', 'spfc2010')\n",
    "LISTA = list()\n",
    "HEADERS = {'Content-Type': 'application/json'}\n",
    "\n",
    "WORK_FLOW = {\n",
    "    'data_collect_flow': [\n",
    "        {'type': 'PAY_INFO', 'fields': [], 'show': False},\n",
    "        {'type': 'CONSUMER_INFO', 'fields': [], 'show': True},\n",
    "        {'type': 'ADDRESS', 'fields': [], 'show': True},\n",
    "        {'type': 'REFERENCES', 'fields': [], 'show': True},\n",
    "    ]}"
   ]
  },
  {
   "cell_type": "code",
   "execution_count": 62,
   "metadata": {},
   "outputs": [],
   "source": [
    "data = get(f'http://{HOST}:{PORT}/api/v2/card?fields=name,company&per_page=50',  auth=AUTH)"
   ]
  },
  {
   "cell_type": "code",
   "execution_count": 63,
   "metadata": {},
   "outputs": [
    {
     "name": "stdout",
     "output_type": "stream",
     "text": [
      "[('caras', '020dd17c-e5e4-4851-b91f-9f9881a0ae7b'),\n",
      " ('abril', '06e8e2c2-b7d8-4098-84ea-05c87ffcba66'),\n",
      " ('abril', '0bf66fdc-375f-437b-a4e8-6056435e2578'),\n",
      " ('abril', '0edf831c-abfa-49c4-ad0e-737b99b5d9c1'),\n",
      " ('abril', '16e771ad-1e7c-4ca9-9b6c-77cce3e9d8fa'),\n",
      " ('abril', '201db940-abde-4bab-8691-715d160e1f31'),\n",
      " ('abril', '2533cf0e-e01a-4517-ac9e-46c528566346'),\n",
      " ('caras', '3dadce97-800b-4a9d-9c59-e84c61c9bbf9'),\n",
      " ('abril', '43772d87-4c2f-4c84-9baf-fc97448c57e3'),\n",
      " ('caras', '498629a9-35fb-4ac1-b4c8-f2f070d989dd'),\n",
      " ('abril', '51eb372f-7ac4-4d17-8620-00813c1c08e2'),\n",
      " ('claro', '5a3ec7b6-b697-40e0-89cf-e1a7a8d78257'),\n",
      " ('abril', '6119aeae-c19a-4b3a-8cac-d3c26f9aa63d'),\n",
      " ('abril', '6645bcf8-cae8-4aa1-8dcb-9d3f9d2d35e6'),\n",
      " ('abril', '752d8b6b-7c4c-4db7-b766-68d95633c13a'),\n",
      " ('abril', '7f36bfca-d856-4856-bf70-4e97a0c2aefc'),\n",
      " ('abril', '8721be44-b631-43e7-8085-1aa1a01cfc8f'),\n",
      " ('caras', '893b0627-cc99-43b4-ad4d-7e1414f9e25b'),\n",
      " ('abril', '8bc50e9d-a76d-4bbe-a50a-9365e23aec98'),\n",
      " ('abril', '9120fb8e-2c66-4ccd-b50f-bff3dd942a8f'),\n",
      " ('abril', '97a2d0a4-17fa-444f-96b2-c4f43ecbf4da'),\n",
      " ('claro', '9ad9db50-4de2-41d0-a53e-ad0e6822f95b'),\n",
      " ('claro', 'b283cb55-bcf4-4f05-8917-f4fa3f0ee412'),\n",
      " ('abril', 'b7ffe08b-f488-4c0d-9fd3-5e7d7d211f1f'),\n",
      " ('abril', 'bb2f6098-0536-4e05-aa48-d987f92dbb27'),\n",
      " ('abril', 'c6fe413f-cb57-4299-b2d4-d0c930c7af3f'),\n",
      " ('caras', 'd0a2057e-a092-41ae-949a-356a859828f2'),\n",
      " ('abril', 'da6ada2b-d239-4ac4-9959-a8010514449b'),\n",
      " ('caras', 'db26e95f-0213-4203-9195-81b7570c6451'),\n",
      " ('flor_de_sal', 'dc6ba3f1-d299-4a75-b391-7992fe13375b'),\n",
      " ('abril', 'e08bec69-8ae1-4bdb-a647-ac890124c917'),\n",
      " ('abril', 'e47b8333-e156-47fd-bbc0-12246a6482a4'),\n",
      " ('abril', 'e6c30bec-0b61-43c4-87de-8298752a4874'),\n",
      " ('claro', 'e9a3e6ec-3eee-4811-a75c-9baee1942b1c'),\n",
      " ('claro', 'ed84af24-7f9c-46d0-b9ca-57c921cb6a8b')]\n"
     ]
    }
   ],
   "source": [
    "for item in data.json()['data']:\n",
    "    LISTA.append((item['company'], item['name']))\n",
    "    \n",
    "pprint(LISTA)"
   ]
  },
  {
   "cell_type": "code",
   "execution_count": 64,
   "metadata": {},
   "outputs": [],
   "source": [
    "for company, card in LISTA:\n",
    "    if company in('claro'):\n",
    "        WORK_FLOW['company'] = company\n",
    "        put(f'http://{HOST}:{PORT}/api/v2/card/{card}', auth=AUTH, headers=HEADERS, data=dumps(WORK_FLOW))"
   ]
  }
 ],
 "metadata": {
  "kernelspec": {
   "display_name": "Python 3",
   "language": "python",
   "name": "python3"
  },
  "language_info": {
   "codemirror_mode": {
    "name": "ipython",
    "version": 3
   },
   "file_extension": ".py",
   "mimetype": "text/x-python",
   "name": "python",
   "nbconvert_exporter": "python",
   "pygments_lexer": "ipython3",
   "version": "3.6.7"
  }
 },
 "nbformat": 4,
 "nbformat_minor": 2
}
