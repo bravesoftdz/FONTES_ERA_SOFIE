{
 "cells": [
  {
   "cell_type": "markdown",
   "metadata": {},
   "source": [
    "# SITUAÇÃO CADASTRAL DAS EMPRESA\n",
    "\n",
    "**https://www.receitaws.com.br**\n",
    "\n",
    "**https://www.sintegraws.com.br**"
   ]
  },
  {
   "cell_type": "code",
   "execution_count": 2,
   "metadata": {},
   "outputs": [],
   "source": [
    "from requests import get\n",
    "from pprint import pprint\n",
    "from json import dumps\n",
    "import os\n",
    "\n",
    "TOKEN_A = 'dfb9f59f7b06f229110b7d3f83f7cb4a0d2b5801262594d2f01fbd83c821d5a6'\n",
    "TOKEN_B = '666b7b4211e76c07d53dfd655aebdaa673c2a07629c8a390dc28bd5bf7a0aa28'\n",
    "TOKEN_C = '72d5af6b6dd42607ef48a179c1b2ba2ce08f45cbe0a8acbed5c6d3b65087bf5e'\n",
    "TOKEN_D = '666713ab741565e871208b932d2834398026ea1681438eb029c255ce7c29535e'\n",
    "TOKEN_E = 'f10fc2747526e142b95ec38913c542ac94777dae705b55e06865755d87d68463'\n",
    "TOKEN_D = '928fa3fa239416d7719d744627bcb656a6d476781a4e9db581afa02d0fb438ca'\n",
    "\n",
    "WORK_RECEITAWS = os.path.join(os.getcwd(), '..', 'LOTES', 'PRIMEIRO', 'receitaws')\n",
    "PARAMS = {'Authorization': f'Bearer {TOKEN_D}'}\n",
    "URL = 'https://www.receitaws.com.br/v1/cnpj/{cnpj}/days/360'\n",
    "\n",
    "def get_cnpj_status(cnpj: str) -> dict:\n",
    "    \"\"\"\n",
    "    \n",
    "    \"\"\"\n",
    "    file_name = os.path.join(WORK_RECEITAWS, f'CNPJ_{cnpj}.json')\n",
    "    \n",
    "    if os.path.isfile(file_name):\n",
    "        with open(file_name, 'rt') as file_handler:\n",
    "            data = loads(file_handler.read())\n",
    "    else:\n",
    "        url = URL.format(cnpj=cnpj)\n",
    "        response = get(url, headers=PARAMS)\n",
    "        if response.status_code == 200:\n",
    "            data = response.json()\n",
    "            with open(file_name, 'wt') as file_handler:\n",
    "                file_handler.write(dumps(data))\n",
    "        else:\n",
    "            raise Exception(f'Erro na API da ReceitaWS: [{response.status_code}]')\n",
    "        \n",
    "    return data"
   ]
  },
  {
   "cell_type": "markdown",
   "metadata": {},
   "source": [
    "## INSERINDO OS DADOS DA RECEITA FEDERAL AO DOCUMENTO PRINCIPAL"
   ]
  },
  {
   "cell_type": "code",
   "execution_count": 3,
   "metadata": {},
   "outputs": [
    {
     "name": "stdout",
     "output_type": "stream",
     "text": [
      "*** FIM DO PROCESSAMENTO **\n"
     ]
    }
   ],
   "source": [
    "import os\n",
    "from json import loads, dumps\n",
    "\n",
    "WORK_DIR = os.path.join(os.getcwd(), 'FINAL_RESULT')\n",
    "\n",
    "for idx, file_name in enumerate([os.path.join(WORK_DIR, each) for each in os.listdir(WORK_DIR)]):\n",
    "    with open(file_name, 'rt') as file_handler:\n",
    "        data = loads(file_handler.read())\n",
    "        \n",
    "    cnpj = data['original']['CNPJ'].replace('.', '')\n",
    "    cnpj = ('0' * (14 - len(cnpj))) + cnpj\n",
    "    \n",
    "    data_cnpj = get_cnpj_status(cnpj)\n",
    "    \n",
    "    data['receita_ws'] = data_cnpj\n",
    "    \n",
    "    with open(file_name, 'wt') as file_handler:\n",
    "        file_handler.write(dumps(data, indent=4))\n",
    "    \n",
    "print('*** FIM DO PROCESSAMENTO **')  "
   ]
  }
 ],
 "metadata": {
  "kernelspec": {
   "display_name": "Python 3",
   "language": "python",
   "name": "python3"
  },
  "language_info": {
   "codemirror_mode": {
    "name": "ipython",
    "version": 3
   },
   "file_extension": ".py",
   "mimetype": "text/x-python",
   "name": "python",
   "nbconvert_exporter": "python",
   "pygments_lexer": "ipython3",
   "version": "3.7.3"
  }
 },
 "nbformat": 4,
 "nbformat_minor": 2
}
