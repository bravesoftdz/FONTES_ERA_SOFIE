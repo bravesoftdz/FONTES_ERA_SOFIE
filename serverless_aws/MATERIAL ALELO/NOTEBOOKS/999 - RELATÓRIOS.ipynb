{
 "cells": [
  {
   "cell_type": "markdown",
   "metadata": {},
   "source": [
    "# CAÇANDO EC"
   ]
  },
  {
   "cell_type": "code",
   "execution_count": null,
   "metadata": {},
   "outputs": [],
   "source": [
    "import boto3\n",
    "\n",
    "TABLE = boto3.session.Session(region_name='us-east-1', profile_name='sofie').resource('dynamodb').Table('table_micro_task_in_person')\n",
    "\n",
    "params = dict()\n",
    "\n",
    "while True:\n",
    "    response = TABLE.scan(**params)\n",
    "    \n",
    "    for each in response.get('Items') :\n",
    "        print(f'{each[\"task_id\"]} - {each[\"sofie_place\"][\"name\"]}')\n",
    "    \n",
    "    last_key = response.get('LastEvaluatedKey')\n",
    "    if not last_key:\n",
    "        break\n",
    "        \n",
    "    params['ExclusiveStartKey'] = last_key\n"
   ]
  },
  {
   "cell_type": "code",
   "execution_count": null,
   "metadata": {},
   "outputs": [],
   "source": [
    "import boto3\n",
    "\n",
    "TABLE = boto3.session.Session(region_name='us-east-1', profile_name='sofie').resource('dynamodb').Table('table_micro_task_execution')\n",
    "\n",
    "params = dict()\n",
    "\n",
    "while True:\n",
    "    response = TABLE.scan(**params)\n",
    "    \n",
    "    for each in response.get('Items'):\n",
    "        execution = each['execution']\n",
    "        for step in execution:\n",
    "            if step['context'] == 'SYSTEM:TASK:POSTPONE_OR_CANCEL':\n",
    "                if step['response'] == 'POSTPONE':\n",
    "                    print(f\"{each['task_id']} - {each['execution_id']} - {step['context']} - {step['response']}\")\n",
    "    \n",
    "    last_key = response.get('LastEvaluatedKey')\n",
    "    if not last_key:\n",
    "        break\n",
    "        \n",
    "    params['ExclusiveStartKey'] = last_key"
   ]
  },
  {
   "cell_type": "markdown",
   "metadata": {},
   "source": [
    "# ACURACIDADE DAS EXECUÇÕES E RESULTADO"
   ]
  },
  {
   "cell_type": "code",
   "execution_count": null,
   "metadata": {},
   "outputs": [],
   "source": [
    "import boto3\n",
    "\n",
    "TABLE = boto3.session.Session(region_name='us-east-1', profile_name='sofie').resource('dynamodb').Table('table_micro_task_execution')\n",
    "\n",
    "params = dict()\n",
    "\n",
    "while True:\n",
    "    response = TABLE.scan(**params)\n",
    "    \n",
    "    for each in response.get('Items'):\n",
    "        if 'location' in each:\n",
    "            print(f\"{each['task_id']} - {each['who']} - {each['location']['acc']}\")\n",
    "    \n",
    "    last_key = response.get('LastEvaluatedKey')\n",
    "    if not last_key:\n",
    "        break\n",
    "        \n",
    "    params['LastEvaluatedKey'] = last_key"
   ]
  },
  {
   "cell_type": "markdown",
   "metadata": {},
   "source": [
    "# LISTANDO ECs EXECUTADOS POR UM SOFIER"
   ]
  },
  {
   "cell_type": "code",
   "execution_count": 4,
   "metadata": {},
   "outputs": [
    {
     "name": "stdout",
     "output_type": "stream",
     "text": [
      "----------\n",
      "Task ID.......: 7993c8f2-2232-4a5a-bac1-9e0a6cb8548a\n",
      "Execution ID..: 5d989e66-d3f5-11e9-95fe-5eef2314d224\n",
      "Data..........: 2019-09-10T18:04:00\n",
      "Nome fantasia.: COMERCIO DE CARNES NEVA LTDA\n",
      "Endereço......: Rua Herbart 47, 47, BOX 106 - Lapa, São Paulo\n",
      "Coordenadas...: Lat: -23.5193882 Lng: -46.7018484\n",
      "Executado em..: Lat: -23.5192662 Lng: -46.7018919 Acc: 15.736\n",
      "Distância.....: 14.223245328130993 metros\n",
      "----------\n",
      "\n",
      "----------\n",
      "Task ID.......: 3e2cc519-b4dc-43b3-a822-e22935070619\n",
      "Execution ID..: 6f159d8e-d3f4-11e9-95fe-5eef2314d224\n",
      "Data..........: 2019-09-10T17:57:20\n",
      "Nome fantasia.: VINTEM CARNES LTDA\n",
      "Endereço......: Rua Herbart 47, 47, BOX 31 - Lapa, São Paulo\n",
      "Coordenadas...: Lat: -23.5193882 Lng: -46.7018484\n",
      "Executado em..: Lat: -23.5193827 Lng: -46.7020031 Acc: 9.32\n",
      "Distância.....: 15.810644028026923 metros\n",
      "----------\n",
      "\n",
      "----------\n",
      "Task ID.......: ef144799-602e-4a1d-9dae-ebddc5f99e6d\n",
      "Execution ID..: dc38dab4-d3f6-11e9-95fe-5eef2314d224\n",
      "Data..........: 2019-09-10T18:14:42\n",
      "Nome fantasia.: COMERCIO DE CEREAIS QUATRO ESTRELAS - EIRELI\n",
      "Endereço......: Rua Herbart 47, 47, BOX 107 - Lapa, São Paulo\n",
      "Coordenadas...: Lat: -23.5193882 Lng: -46.7018484\n",
      "Executado em..: Lat: -23.5194623 Lng: -46.7019494 Acc: 9.009\n",
      "Distância.....: 13.18116777809022 metros\n",
      "----------\n",
      "\n",
      "----------\n",
      "Task ID.......: f73ad59d-5c91-484b-b778-62cc2dad5303\n",
      "Execution ID..: e2a85754-d3f5-11e9-95fe-5eef2314d224\n",
      "Data..........: 2019-09-10T18:07:43\n",
      "Nome fantasia.: PEIXARIA SAO JOSE DA LAPA\n",
      "Endereço......: Rua Herbart 47, 47, BOX 111 - Lapa, São Paulo\n",
      "Coordenadas...: Lat: -23.5193882 Lng: -46.7018484\n",
      "Executado em..: Lat: -23.5192941 Lng: -46.7018621 Acc: 14.791\n",
      "Distância.....: 10.51519826071234 metros\n",
      "----------\n",
      "\n"
     ]
    }
   ],
   "source": [
    "import boto3\n",
    "import geopy.distance\n",
    "\n",
    "WHO = 'pritybenites@gmail.com'\n",
    "\n",
    "TABLE = boto3.session.Session(region_name='us-east-1', profile_name='sofie').resource('dynamodb').Table('table_micro_task_execution')\n",
    "TABLE_TASK = boto3.session.Session(region_name='us-east-1', profile_name='sofie').resource('dynamodb').Table('table_micro_task_in_person')\n",
    "\n",
    "params = dict()\n",
    "while True:\n",
    "    response = TABLE.scan(**params)\n",
    "    \n",
    "    for each in response.get('Items'):\n",
    "        if each['task_id'] in ('7993c8f2-2232-4a5a-bac1-9e0a6cb8548a', '3e2cc519-b4dc-43b3-a822-e22935070619', 'ef144799-602e-4a1d-9dae-ebddc5f99e6d', 'f73ad59d-5c91-484b-b778-62cc2dad5303'):\n",
    "            \n",
    "            info_task = TABLE_TASK.get_item(Key={'task_id': each['task_id']})\n",
    "            \n",
    "            p1 = (info_task['Item']['sofie_place']['location']['lat'], info_task['Item']['sofie_place']['location']['lng'])\n",
    "            p2 = (each['location']['lat'], each['location']['lng'])\n",
    "            \n",
    "            print(f\"----------\")\n",
    "            print(f\"Task ID.......: {each['task_id']}\")\n",
    "            print(f\"Execution ID..: {each['execution_id']}\")\n",
    "            print(f\"Data..........: {each['when']['start']}\")\n",
    "            print(f\"Nome fantasia.: {info_task['Item']['receita_ws']['fantasia'] or info_task['Item']['receita_ws']['nome']}\")\n",
    "            print(f\"Endereço......: {info_task['Item']['address']['formatted_address']}\")\n",
    "            print(f\"Coordenadas...: Lat: {info_task['Item']['sofie_place']['location']['lat']} Lng: {info_task['Item']['sofie_place']['location']['lng']}\")\n",
    "            print(f\"Executado em..: Lat: {each['location']['lat']} Lng: {each['location']['lng']} Acc: {each['location']['acc']}\")\n",
    "            print(f\"Distância.....: {geopy.distance.distance(p1, p2).m} metros\")\n",
    "            print(f\"----------\\n\")\n",
    "    \n",
    "    last_key = response.get('LastEvaluatedKey')\n",
    "    if not last_key:\n",
    "        break\n",
    "        \n",
    "    params['LastEvaluatedKey'] = last_key\n"
   ]
  }
 ],
 "metadata": {
  "kernelspec": {
   "display_name": "Python 3",
   "language": "python",
   "name": "python3"
  },
  "language_info": {
   "codemirror_mode": {
    "name": "ipython",
    "version": 3
   },
   "file_extension": ".py",
   "mimetype": "text/x-python",
   "name": "python",
   "nbconvert_exporter": "python",
   "pygments_lexer": "ipython3",
   "version": "3.7.4"
  }
 },
 "nbformat": 4,
 "nbformat_minor": 2
}
