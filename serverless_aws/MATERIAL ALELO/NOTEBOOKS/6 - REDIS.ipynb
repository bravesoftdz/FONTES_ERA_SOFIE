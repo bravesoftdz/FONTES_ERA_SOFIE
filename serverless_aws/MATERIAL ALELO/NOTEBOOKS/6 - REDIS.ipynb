{
 "cells": [
  {
   "cell_type": "markdown",
   "metadata": {},
   "source": [
    "## PoC dos conceitos utilizando o Redis"
   ]
  },
  {
   "cell_type": "markdown",
   "metadata": {},
   "source": [
    "Varre todos os arquivos JSON gerando uma lista com os dados pertinentes a irem para o Redis"
   ]
  },
  {
   "cell_type": "code",
   "execution_count": 1,
   "metadata": {},
   "outputs": [
    {
     "name": "stdout",
     "output_type": "stream",
     "text": [
      "865 itens na lista\n"
     ]
    }
   ],
   "source": [
    "import boto3\n",
    "\n",
    "SESSION = boto3.session.Session(region_name='us-east-1', profile_name='sofie')\n",
    "DYNAMODB = SESSION.resource('dynamodb')\n",
    "TABLE = DYNAMODB.Table('table_micro_task_in_person')\n",
    "\n",
    "FINAL_LIST = list()\n",
    "\n",
    "scan_params = dict(\n",
    "    FilterExpression='#status.#state = :n',\n",
    "    ExpressionAttributeNames={'#state': 'state', '#status': 'status'},\n",
    "    ExpressionAttributeValues={':n': 'NEW'},\n",
    ")\n",
    "\n",
    "while True:\n",
    "    response = TABLE.scan(**scan_params)\n",
    "    \n",
    "    for data in response.get('Items'):\n",
    "        item = {\n",
    "            'category': data['task']['category'],\n",
    "            'type': data['task']['type'],\n",
    "            'task_id': data['task_id'],\n",
    "            'reward': float(data['task']['reward']),\n",
    "            'name': data['sofie_place']['name'],\n",
    "            'address': data['address']['formatted_address'],\n",
    "            'lat': float(data['google_maps']['results'][0]['geometry']['location']['lat']),\n",
    "            'lng': float(data['google_maps']['results'][0]['geometry']['location']['lng']),\n",
    "            'task_name': data['task']['name']\n",
    "        }\n",
    "        FINAL_LIST.append(item)\n",
    "    \n",
    "    last_key = response.get('LastEvaluatedKey')\n",
    "    if not last_key:\n",
    "        break\n",
    "        \n",
    "    scan_params['ExclusiveStartKey'] = last_key\n",
    "    \n",
    "print(f'{len(FINAL_LIST)} itens na lista')\n"
   ]
  },
  {
   "cell_type": "code",
   "execution_count": 2,
   "metadata": {},
   "outputs": [
    {
     "data": {
      "text/plain": [
       "{'category': 'in_person',\n",
       " 'type': 'inspection',\n",
       " 'task_id': 'f54ea170-91f4-40b8-8959-fa47cdb372c8',\n",
       " 'reward': 10.0,\n",
       " 'name': 'EMPORIO SHOW ARTE E CAFE',\n",
       " 'address': 'Rua Dimitri Sensaud de Lavoud, 40 - Vila Campesina, Osasco',\n",
       " 'lat': -23.5427299,\n",
       " 'lng': -46.7735081,\n",
       " 'task_name': 'PAT'}"
      ]
     },
     "execution_count": 2,
     "metadata": {},
     "output_type": "execute_result"
    }
   ],
   "source": [
    "FINAL_LIST[0]"
   ]
  },
  {
   "cell_type": "markdown",
   "metadata": {},
   "source": [
    "## HIGIENIZAÇÃO DO REDIS\n",
    "\n",
    "Limpa todas as entradas do Redis referentes ao assunto MICROTASK recriando-as com as informações atualizadas"
   ]
  },
  {
   "cell_type": "code",
   "execution_count": 3,
   "metadata": {},
   "outputs": [],
   "source": [
    "from redis import Redis\n",
    "\n",
    "# conn = Redis('localhost', 6379)\n",
    "conn = Redis('172.30.1.20', 5052)"
   ]
  },
  {
   "cell_type": "code",
   "execution_count": 4,
   "metadata": {},
   "outputs": [
    {
     "name": "stdout",
     "output_type": "stream",
     "text": [
      "*** PROCESSADO COM SUCESSO -> 12880 ITENS ***\n"
     ]
    }
   ],
   "source": [
    "#raise Exception('Cuidado!')\n",
    "\n",
    "for each in conn.keys('SOFIE:MICROTASK:*#'):\n",
    "    conn.delete(each)\n",
    "\n",
    "for each in FINAL_LIST:\n",
    "    conn.hmset(f'SOFIE:MICROTASK:{each[\"task_id\"]}:DATA#', each)\n",
    "    conn.geoadd('SOFIE:MICROTASK:IN_PERSON#', each['lng'], each['lat'], each['task_id'])\n",
    "               \n",
    "print(f'*** PROCESSADO COM SUCESSO -> {len(conn.keys('SOFIE:MICROTASK:*#'))} ITENS ***')"
   ]
  },
  {
   "cell_type": "markdown",
   "metadata": {},
   "source": [
    "# LISTAGEM DE TAREFAS"
   ]
  },
  {
   "cell_type": "code",
   "execution_count": 25,
   "metadata": {},
   "outputs": [
    {
     "name": "stdout",
     "output_type": "stream",
     "text": [
      "b'SOFIE:MICROTASK:9abec9ef-1010-4b8f-99ee-a6448c716b5a:RESERVED:sonia@mysofie.com#'\n",
      "b'SOFIE:MICROTASK:93f91aa0-eb46-4c29-bda0-2953acfc84e0:RESERVED:sonia@mysofie.com#'\n",
      "b'SOFIE:MICROTASK:2fd10e54-d111-41aa-a6b3-0923e9bfe6df:RESERVED:pritybenites@gmail.com#'\n",
      "b'SOFIE:MICROTASK:6e8cb5ec-525a-461e-af6b-e1dfe766e02e:RESERVED:sonia@mysofie.com#'\n",
      "b'SOFIE:MICROTASK:ef5a837c-4a6c-4d2b-a1de-123cd26ed369:RESERVED:sonia@mysofie.com#'\n",
      "b'SOFIE:MICROTASK:56242317-33a0-4be9-b809-5695c49e7769:RESERVED:thiago.filadelfo@gmail.com#'\n",
      "b'SOFIE:MICROTASK:0db15e17-7899-4369-b752-b6c53ac85b22:RESERVED:sonia@mysofie.com#'\n",
      "b'SOFIE:MICROTASK:ac350204-4ce1-4eb7-82b2-abc0c9c64df2:RESERVED:sonia@mysofie.com#'\n",
      "b'SOFIE:MICROTASK:5de116ce-2227-425f-a3ff-a834955f1632:RESERVED:sonia@mysofie.com#'\n",
      "b'SOFIE:MICROTASK:47aeb48a-4235-4fb0-b1c1-57a20c7f6251:RESERVED:sonia@mysofie.com#'\n",
      "b'SOFIE:MICROTASK:ce00bbb1-349f-4b84-bea8-956770fdadd1:RESERVED:mario@arrayof.io#'\n",
      "b'SOFIE:MICROTASK:6fcdb4e0-05ed-4c64-a911-298956e4f90e:RESERVED:mario@arrayof.io#'\n",
      "b'SOFIE:MICROTASK:5f191460-9955-4503-8edb-517b8091d84e:RESERVED:fernandamatos417@gmail.com#'\n",
      "b'SOFIE:MICROTASK:1eff2748-95d4-4007-9012-e33e3e5f80da:RESERVED:sonia@mysofie.com#'\n",
      "b'SOFIE:MICROTASK:f240a01e-4a99-4a21-a2c1-650ac0413c33:RESERVED:pritybenites@gmail.com#'\n",
      "b'SOFIE:MICROTASK:015b3b64-bcf3-4746-a468-5f8824f1054a:RESERVED:pritybenites@gmail.com#'\n",
      "b'SOFIE:MICROTASK:7ec64787-60e1-40e1-a5cd-f4f4291dd30b:RESERVED:mario@arrayof.io#'\n",
      "b'SOFIE:MICROTASK:ff0f5ec8-afb3-4eeb-9f28-22e7dc6a0b5e:RESERVED:sonia@mysofie.com#'\n",
      "b'SOFIE:MICROTASK:bdcb3f1c-e7c5-4ce6-91b2-604efb58c77d:RESERVED:mario@arrayof.io#'\n",
      "b'SOFIE:MICROTASK:92adda9f-68fa-44fe-a3fb-6cbd1aa9f640:RESERVED:pritybenites@gmail.com#'\n",
      "b'SOFIE:MICROTASK:a32c2530-e9d2-4405-94cb-f272d11bb6a2:RESERVED:sonia@mysofie.com#'\n"
     ]
    }
   ],
   "source": [
    "import datetime\n",
    "\n",
    "for each in conn.keys('SOFIE:MICROTASK:*:RESERVED:*#'):\n",
    "    print(each)\n",
    "    ttl = conn.ttl(each)\n",
    "    conn.setex(each, ttl, datetime.datetime.utcnow().isoformat())\n",
    "    "
   ]
  },
  {
   "cell_type": "code",
   "execution_count": 24,
   "metadata": {},
   "outputs": [
    {
     "data": {
      "text/plain": [
       "9966"
      ]
     },
     "execution_count": 24,
     "metadata": {},
     "output_type": "execute_result"
    }
   ],
   "source": [
    "conn.ttl('SOFIE:MICROTASK:9abec9ef-1010-4b8f-99ee-a6448c716b5a:RESERVED:sonia@mysofie.com#')"
   ]
  }
 ],
 "metadata": {
  "kernelspec": {
   "display_name": "Python 3",
   "language": "python",
   "name": "python3"
  },
  "language_info": {
   "codemirror_mode": {
    "name": "ipython",
    "version": 3
   },
   "file_extension": ".py",
   "mimetype": "text/x-python",
   "name": "python",
   "nbconvert_exporter": "python",
   "pygments_lexer": "ipython3",
   "version": "3.7.4"
  }
 },
 "nbformat": 4,
 "nbformat_minor": 2
}
