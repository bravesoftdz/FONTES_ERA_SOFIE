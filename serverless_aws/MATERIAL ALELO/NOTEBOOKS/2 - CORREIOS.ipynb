{
 "cells": [
  {
   "cell_type": "markdown",
   "metadata": {},
   "source": [
    "# VERIFICAÇÃO DOS ENDEREÇOS DE ACORDO COM OS CORREIOS"
   ]
  },
  {
   "cell_type": "code",
   "execution_count": 1,
   "metadata": {},
   "outputs": [],
   "source": [
    "import os\n",
    "from json import loads, dumps\n",
    "from time import sleep\n",
    "\n",
    "import zeep\n",
    "\n",
    "CORREIOS = zeep.Client('https://apps.correios.com.br/SigepMasterJPA/AtendeClienteService/AtendeCliente?wsdl')\n",
    "\n",
    "CORREIOS_DIR = os.path.join(os.getcwd(), '..', 'LOTES', 'PRIMEIRO', 'correios')\n",
    "\n",
    "def get_postaladdress(postal_code: str) -> dict:\n",
    "    \"\"\"\n",
    "    \n",
    "    \"\"\"\n",
    "    try:\n",
    "        file_name = f'{os.path.join(CORREIOS_DIR, postal_code)}.json'\n",
    "        \n",
    "        if os.path.isfile(file_name):\n",
    "            with open(file_name, 'rt') as file_handler:\n",
    "                data = loads(file_handler.read())\n",
    "        \n",
    "        else:\n",
    "            print('>> Consultando o CEP: {postal_code}')\n",
    "            original = CORREIOS.service.consultaCEP(postal_code)\n",
    "\n",
    "            data = {\n",
    "                'bairro': original['bairro'],\n",
    "                'cep': original['cep'],\n",
    "                'cidade': original['cidade'],\n",
    "                'complemento2': original['complemento2'],\n",
    "                'end': original['end'],\n",
    "                'uf': original['uf'],\n",
    "                'unidadesPostagem': original['unidadesPostagem'],\n",
    "            }\n",
    "            \n",
    "            with open(file_name, 'wt') as file_handler:\n",
    "                file_handler.write(dumps(data, indent=4))\n",
    "\n",
    "        return data\n",
    "    except Exception as err:\n",
    "        print(f'!!! Deu erro no CEP: [{postal_code}] - {err} !!!')"
   ]
  },
  {
   "cell_type": "markdown",
   "metadata": {},
   "source": [
    "## Processamento no site dos Correios"
   ]
  },
  {
   "cell_type": "code",
   "execution_count": 2,
   "metadata": {},
   "outputs": [
    {
     "name": "stdout",
     "output_type": "stream",
     "text": [
      "*** CEPs COLETADOS COM SUCESSO ***\n"
     ]
    }
   ],
   "source": [
    "import os\n",
    "import re\n",
    "from json import loads, dumps\n",
    "from pprint import pprint\n",
    "\n",
    "REGEX = re.compile('([^ ]*)[ ](.*)([ ]\\d*)?$')\n",
    "\n",
    "WORK_DIR = os.path.join(os.getcwd(), 'FINAL_RESULT')\n",
    "\n",
    "for file_name in [os.path.join(WORK_DIR, each) for each in os.listdir(WORK_DIR)]:\n",
    "    while True:\n",
    "        try:\n",
    "            with open(file_name, 'rt') as file_handler:\n",
    "                data = loads(file_handler.read())\n",
    "\n",
    "            formatted_cep = data['pre_preparation_address']['postal_code']\n",
    "            formatted_cep = ('0' * (8 - len(formatted_cep))) + formatted_cep\n",
    "\n",
    "            if 'correios' not in data or formatted_cep != data['correios']['cep']:\n",
    "                data['correios'] = get_postaladdress(formatted_cep)\n",
    "\n",
    "                parts = REGEX.search(data['correios']['end'])\n",
    "\n",
    "                data['address'] = {\n",
    "                    'postal_code': data['correios']['cep'],\n",
    "                    'type': parts[1],\n",
    "                    'full_name': parts[2],\n",
    "                    'number': data['pre_preparation_address']['number'],\n",
    "                    'complement': data['pre_preparation_address']['complement'], \n",
    "                    'reference': data['pre_preparation_address']['reference'], \n",
    "                    'district': data['correios']['bairro'],\n",
    "                    'city': data['correios']['cidade'],\n",
    "                    'state': data['correios']['uf'],\n",
    "                    'country': 'BRASIL'\n",
    "                }\n",
    "\n",
    "                formatted_address = (\n",
    "                    f'{data[\"address\"][\"type\"]} {data[\"address\"][\"full_name\"]}, ' \n",
    "                    f'{data[\"address\"][\"number\"] or \"???\"}'\n",
    "                    f'{\", \" + data[\"address\"][\"complement\"] + \" - \" if data[\"address\"][\"complement\"] else \" - \"}'\n",
    "                    f'{(data[\"address\"][\"district\"] + \", \") if data[\"address\"][\"district\"] else \"\" }'\n",
    "                    f'{data[\"address\"][\"city\"]}'\n",
    "                )   \n",
    "\n",
    "                data['address']['formatted_address'] = formatted_address\n",
    "\n",
    "                with open(file_name, 'wt') as file_handler:\n",
    "                    file_handler.write(dumps(data, indent=4))\n",
    "                      \n",
    "                break\n",
    "        except Exception as err:\n",
    "            pass\n",
    "              \n",
    "\n",
    "print('*** CEPs COLETADOS COM SUCESSO ***')\n"
   ]
  },
  {
   "cell_type": "code",
   "execution_count": null,
   "metadata": {},
   "outputs": [],
   "source": []
  }
 ],
 "metadata": {
  "kernelspec": {
   "display_name": "Python 3",
   "language": "python",
   "name": "python3"
  },
  "language_info": {
   "codemirror_mode": {
    "name": "ipython",
    "version": 3
   },
   "file_extension": ".py",
   "mimetype": "text/x-python",
   "name": "python",
   "nbconvert_exporter": "python",
   "pygments_lexer": "ipython3",
   "version": "3.7.3"
  }
 },
 "nbformat": 4,
 "nbformat_minor": 2
}
