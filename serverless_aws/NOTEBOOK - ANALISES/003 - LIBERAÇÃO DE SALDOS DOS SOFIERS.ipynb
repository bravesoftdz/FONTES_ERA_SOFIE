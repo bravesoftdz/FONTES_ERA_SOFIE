{
 "cells": [
  {
   "cell_type": "markdown",
   "metadata": {},
   "source": [
    "# SALDO DISPONÍVEL\n",
    "\n",
    "Esta rotina passa os saldos de `BLOCKED` para `AVALIABLE`"
   ]
  },
  {
   "cell_type": "code",
   "execution_count": null,
   "metadata": {},
   "outputs": [],
   "source": [
    "LIST_SOFIER_TARGET = [\n",
    "    'fernandamatos417@gmail.com',\n",
    "    'robertinhooj99@gmail.com',\n",
    "    'katia_silva98@outlook.com',\n",
    "    'luismiotta@hotmail.com',\n",
    "    'mcris98@outlook.com.br',\n",
    "    'pritybenites@gmail.com',\n",
    "]"
   ]
  },
  {
   "cell_type": "code",
   "execution_count": null,
   "metadata": {},
   "outputs": [],
   "source": [
    "import boto3\n",
    "\n",
    "TABLE = boto3.session.Session(region_name='us-east-1', profile_name='sofie').resource('dynamodb').Table('table_sofier_ledger')\n",
    "params = dict()\n",
    "\n",
    "FINAL = list()\n",
    "\n",
    "while True:\n",
    "    response = TABLE.scan(**params)\n",
    "    \n",
    "    for each in response.get('Items'):\n",
    "        if each['phase'] == 'BLOCKED' and each['sofier'] in LIST_SOFIER_TARGET:\n",
    "            FINAL.append((each['sofier'], each['execution_id']))\n",
    "    \n",
    "    last_key = response.get('LastEvaluatedKey')\n",
    "    if not last_key:\n",
    "        break\n",
    "        \n",
    "    params['ExclusiveStartKey'] = last_key\n",
    "\n",
    "from pprint import pprint\n",
    "pprint(FINAL)"
   ]
  },
  {
   "cell_type": "code",
   "execution_count": null,
   "metadata": {},
   "outputs": [],
   "source": [
    "from datetime import datetime\n",
    "\n",
    "for sofier, execution_id in FINAL:\n",
    "    TABLE.update_item(\n",
    "        Key={'sofier': sofier, 'execution_id': execution_id},\n",
    "        UpdateExpression='set phase = :ph, last_move = :lm, history = list_append(history, :h)',\n",
    "        ExpressionAttributeValues={\n",
    "            ':ph': 'AVAILABLE',\n",
    "            ':lm': datetime.utcnow().isoformat(),\n",
    "            ':h': [{'phase': 'AVAILABLE', 'time_stamp': datetime.utcnow().isoformat()}]\n",
    "        }\n",
    "    )"
   ]
  },
  {
   "cell_type": "markdown",
   "metadata": {},
   "source": [
    "# RESGATE DE SALDOS\n",
    "\n",
    "O objetivo deste _script_ é o de registrar os resgates artificialmente"
   ]
  },
  {
   "cell_type": "code",
   "execution_count": 9,
   "metadata": {},
   "outputs": [],
   "source": [
    "VALORES = dict()"
   ]
  },
  {
   "cell_type": "code",
   "execution_count": 10,
   "metadata": {},
   "outputs": [],
   "source": [
    "from uuid import uuid1\n",
    "from decimal import Decimal\n",
    "import boto3\n",
    "\n",
    "TABLE = boto3.session.Session(region_name='us-east-1', profile_name='sofie').resource('dynamodb').Table('table_sofier_ledger')\n",
    "\n",
    "for sofier, value in VALORES.items():\n",
    "    item = {\n",
    "        'sofier': sofier, \n",
    "        'execution_id': str(uuid1()),\n",
    "        'reward': Decimal(-value),\n",
    "        'phase': 'AVAILABLE',\n",
    "        'last_move': datetime.utcnow().isoformat(),\n",
    "        'comments': 'Pagamento efetuado diretamente pelo Erik ao grupo de testes - 2ª Leva',\n",
    "        'dt_prevision': '2019-11-14T20:00:00'\n",
    "    }\n",
    "    \n",
    "    TABLE.put_item(Item=item)\n"
   ]
  }
 ],
 "metadata": {
  "kernelspec": {
   "display_name": "Python 3",
   "language": "python",
   "name": "python3"
  },
  "language_info": {
   "codemirror_mode": {
    "name": "ipython",
    "version": 3
   },
   "file_extension": ".py",
   "mimetype": "text/x-python",
   "name": "python",
   "nbconvert_exporter": "python",
   "pygments_lexer": "ipython3",
   "version": "3.7.4"
  }
 },
 "nbformat": 4,
 "nbformat_minor": 2
}
